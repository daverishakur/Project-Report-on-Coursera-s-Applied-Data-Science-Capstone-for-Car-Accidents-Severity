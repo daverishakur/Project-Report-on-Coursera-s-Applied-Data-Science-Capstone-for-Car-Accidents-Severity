{
 "cells": [
  {
   "cell_type": "markdown",
   "metadata": {},
   "source": [
    "<h1> Project Report on Coursera's Applied Data Science Capstone for Car Accidents Severity"
   ]
  },
  {
   "cell_type": "markdown",
   "metadata": {},
   "source": [
    "<h2> Introduction"
   ]
  },
  {
   "cell_type": "markdown",
   "metadata": {},
   "source": [
    "A Road Traffic Accident according to Garber (2010) is a random event involving a road user that results into property damage, death or injury. Road Traffic Accidents(RTA) have become not just a National but a Global issue. It is on records that Road traffic accidents cause an estimated 13 million deaths and 20-50 million disabilities worldwide annually with 85% of injury related deaths occurring in developing countries. According to WHO (2007), RTA injuries accounted for 23% of all injury deaths worldwide. This project discusses the severity of car accidents citing City of Seattle. "
   ]
  },
  {
   "cell_type": "markdown",
   "metadata": {},
   "source": [
    "<h3> Importance of the Project"
   ]
  },
  {
   "cell_type": "markdown",
   "metadata": {},
   "source": [
    "1. Determining the causes of Road Traffic accidents\n",
    "2. Prediction of Road Traffic accidents\n",
    "3. Determining the effects and severity of Road Traffic Accidents "
   ]
  },
  {
   "cell_type": "markdown",
   "metadata": {},
   "source": [
    "This project is useful to the Road Safety Corporation and stakeholders interested in the welfare and safety of road users."
   ]
  },
  {
   "cell_type": "markdown",
   "metadata": {},
   "source": [
    "<h2> Data"
   ]
  },
  {
   "cell_type": "markdown",
   "metadata": {},
   "source": [
    "The chosen dataset comes directly from the Seattle Data on Transportation. It contains data from car crashes from 2004 till date. The dataset comes with a pdf file containing a clear definition for each of the available features. The data for this project is secondarily sourced from https://data.seattle.gov/browse?q=vehicle+accidents , https://www.seattle.gov/Documents/Departments/SDOT/GIS/Collisions_OD.pdf"
   ]
  },
  {
   "cell_type": "markdown",
   "metadata": {},
   "source": [
    "<h2> Methodology"
   ]
  },
  {
   "cell_type": "markdown",
   "metadata": {},
   "source": [
    "Most of the features in the dataset of this project are categorical. In this project Machine Learning Algorithm is used in car collissions and severity recognition."
   ]
  },
  {
   "cell_type": "code",
   "execution_count": null,
   "metadata": {},
   "outputs": [],
   "source": []
  }
 ],
 "metadata": {
  "kernelspec": {
   "display_name": "Python",
   "language": "python",
   "name": "conda-env-python-py"
  },
  "language_info": {
   "codemirror_mode": {
    "name": "ipython",
    "version": 3
   },
   "file_extension": ".py",
   "mimetype": "text/x-python",
   "name": "python",
   "nbconvert_exporter": "python",
   "pygments_lexer": "ipython3",
   "version": "3.6.11"
  }
 },
 "nbformat": 4,
 "nbformat_minor": 4
}
